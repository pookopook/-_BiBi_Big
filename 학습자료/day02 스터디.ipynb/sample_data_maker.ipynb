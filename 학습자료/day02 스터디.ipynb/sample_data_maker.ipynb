{
 "cells": [
  {
   "cell_type": "code",
   "execution_count": 4,
   "id": "6e966ae6-0301-4c7b-8803-99ee36d2922f",
   "metadata": {},
   "outputs": [
    {
     "data": {
      "text/html": [
       "<div>\n",
       "<style scoped>\n",
       "    .dataframe tbody tr th:only-of-type {\n",
       "        vertical-align: middle;\n",
       "    }\n",
       "\n",
       "    .dataframe tbody tr th {\n",
       "        vertical-align: top;\n",
       "    }\n",
       "\n",
       "    .dataframe thead th {\n",
       "        text-align: right;\n",
       "    }\n",
       "</style>\n",
       "<table border=\"1\" class=\"dataframe\">\n",
       "  <thead>\n",
       "    <tr style=\"text-align: right;\">\n",
       "      <th></th>\n",
       "      <th>일련번호</th>\n",
       "      <th>소속</th>\n",
       "      <th>이름</th>\n",
       "      <th>입사일</th>\n",
       "      <th>퇴사일</th>\n",
       "      <th>나이</th>\n",
       "      <th>성별</th>\n",
       "      <th>주소</th>\n",
       "    </tr>\n",
       "  </thead>\n",
       "  <tbody>\n",
       "    <tr>\n",
       "      <th>0</th>\n",
       "      <td>1</td>\n",
       "      <td>기획부</td>\n",
       "      <td>김상호</td>\n",
       "      <td>2015-05-26</td>\n",
       "      <td>None</td>\n",
       "      <td>31</td>\n",
       "      <td>여성</td>\n",
       "      <td>대전광역시 서구 학동742거리</td>\n",
       "    </tr>\n",
       "    <tr>\n",
       "      <th>1</th>\n",
       "      <td>2</td>\n",
       "      <td>개발부</td>\n",
       "      <td>이동현</td>\n",
       "      <td>2014-05-25</td>\n",
       "      <td>None</td>\n",
       "      <td>37</td>\n",
       "      <td>남성</td>\n",
       "      <td>인천광역시 송파구 가락가 (병철이김리)</td>\n",
       "    </tr>\n",
       "    <tr>\n",
       "      <th>2</th>\n",
       "      <td>3</td>\n",
       "      <td>기획부</td>\n",
       "      <td>이옥순</td>\n",
       "      <td>2014-08-02</td>\n",
       "      <td>None</td>\n",
       "      <td>45</td>\n",
       "      <td>여성</td>\n",
       "      <td>제주특별자치도 태백시 봉은사2가</td>\n",
       "    </tr>\n",
       "    <tr>\n",
       "      <th>3</th>\n",
       "      <td>4</td>\n",
       "      <td>인사부</td>\n",
       "      <td>김예원</td>\n",
       "      <td>2023-04-19</td>\n",
       "      <td>None</td>\n",
       "      <td>60</td>\n",
       "      <td>남성</td>\n",
       "      <td>강원도 단양군 백제고분가</td>\n",
       "    </tr>\n",
       "    <tr>\n",
       "      <th>4</th>\n",
       "      <td>5</td>\n",
       "      <td>기획부</td>\n",
       "      <td>오영일</td>\n",
       "      <td>2016-04-23</td>\n",
       "      <td>None</td>\n",
       "      <td>56</td>\n",
       "      <td>남성</td>\n",
       "      <td>부산광역시 금천구 오금가 (서연김이읍)</td>\n",
       "    </tr>\n",
       "  </tbody>\n",
       "</table>\n",
       "</div>"
      ],
      "text/plain": [
       "   일련번호   소속   이름         입사일   퇴사일  나이  성별                     주소\n",
       "0     1  기획부  김상호  2015-05-26  None  31  여성       대전광역시 서구 학동742거리\n",
       "1     2  개발부  이동현  2014-05-25  None  37  남성  인천광역시 송파구 가락가 (병철이김리)\n",
       "2     3  기획부  이옥순  2014-08-02  None  45  여성      제주특별자치도 태백시 봉은사2가\n",
       "3     4  인사부  김예원  2023-04-19  None  60  남성          강원도 단양군 백제고분가\n",
       "4     5  기획부  오영일  2016-04-23  None  56  남성  부산광역시 금천구 오금가 (서연김이읍)"
      ]
     },
     "execution_count": 4,
     "metadata": {},
     "output_type": "execute_result"
    }
   ],
   "source": [
    "import pandas as pd\n",
    "from faker import Faker\n",
    "import random\n",
    "\n",
    "# Faker 라이브러리를 한국어로 설정\n",
    "fake = Faker('ko_KR')\n",
    "\n",
    "# 소속 부서 목록\n",
    "departments = ['인사부', '기획부', '개발부', '영업부', '마케팅부']\n",
    "\n",
    "# 샘플 데이터 생성\n",
    "data = {\n",
    "    '일련번호': [i+1 for i in range(100)],\n",
    "    '소속': [random.choice(departments) for _ in range(100)],\n",
    "    '이름': [fake.name() for _ in range(100)],\n",
    "    '입사일': [fake.date_between(start_date='-10y', end_date='-1m') for _ in range(100)]\n",
    "}\n",
    "\n",
    "# 퇴사일 추가를 위한 로직\n",
    "def add_resignation_date(hire_date):\n",
    "    # 20% 확률로 퇴사 처리\n",
    "    if random.random() < 0.2:\n",
    "        # 퇴사일은 입사일 이후로 설정\n",
    "        end_date = hire_date + pd.DateOffset(years=random.randint(1, 5), days=random.randint(1, 365))\n",
    "        return end_date.strftime('%Y-%m-%d')\n",
    "    else:\n",
    "        return None  # 퇴사하지 않은 경우\n",
    "\n",
    "# 데이터 추가\n",
    "data['퇴사일'] = [add_resignation_date(pd.to_datetime(hire_date)) for hire_date in data['입사일']]\n",
    "data['나이'] = [random.randint(22, 60) for _ in range(100)]\n",
    "data['성별'] = [random.choice(['남성', '여성']) for _ in range(100)]\n",
    "data['주소'] = [fake.address() for _ in range(100)]\n",
    "# DataFrame 생성\n",
    "df = pd.DataFrame(data)\n",
    "\n",
    "df.head()  # 생성된 데이터의 상위 5개 행을 확인\n"
   ]
  },
  {
   "cell_type": "code",
   "execution_count": 5,
   "id": "23b67949-72d0-420f-b69b-f5f8f2ac417b",
   "metadata": {},
   "outputs": [],
   "source": [
    "df.to_csv('sample_data.csv', index=False, encoding='utf-8-sig')"
   ]
  },
  {
   "cell_type": "code",
   "execution_count": 8,
   "id": "9a542813-d247-41ba-a5f2-f1aac4810af9",
   "metadata": {},
   "outputs": [
    {
     "name": "stdin",
     "output_type": "stream",
     "text": [
      "숫자를 입력하세요:  ㅇㄴㄹㅇ\n"
     ]
    },
    {
     "ename": "ValueError",
     "evalue": "could not convert string to float: 'ㅇㄴㄹㅇ'",
     "output_type": "error",
     "traceback": [
      "\u001b[1;31m---------------------------------------------------------------------------\u001b[0m",
      "\u001b[1;31mValueError\u001b[0m                                Traceback (most recent call last)",
      "Cell \u001b[1;32mIn[8], line 2\u001b[0m\n\u001b[0;32m      1\u001b[0m \u001b[38;5;66;03m# 사용자로부터 숫자 입력받기\u001b[39;00m\n\u001b[1;32m----> 2\u001b[0m num \u001b[38;5;241m=\u001b[39m \u001b[38;5;28mfloat\u001b[39m(\u001b[38;5;28minput\u001b[39m(\u001b[38;5;124m\"\u001b[39m\u001b[38;5;124m숫자를 입력하세요: \u001b[39m\u001b[38;5;124m\"\u001b[39m))\n\u001b[0;32m      4\u001b[0m \u001b[38;5;66;03m# 입력된 숫자가 양수인지 음수인지 판별\u001b[39;00m\n\u001b[0;32m      5\u001b[0m \u001b[38;5;28;01mif\u001b[39;00m num \u001b[38;5;241m>\u001b[39m \u001b[38;5;241m0\u001b[39m:\n",
      "\u001b[1;31mValueError\u001b[0m: could not convert string to float: 'ㅇㄴㄹㅇ'"
     ]
    }
   ],
   "source": [
    "# 사용자로부터 숫자 입력받기\n",
    "num = float(input(\"숫자를 입력하세요: \"))\n",
    "\n",
    "# 입력된 숫자가 양수인지 음수인지 판별\n",
    "if num > 0:\n",
    "    print(\"입력한 숫자는 양수입니다.\")\n",
    "elif num < 0:\n",
    "    print(\"입력한 숫자는 음수입니다.\")\n",
    "else:\n",
    "    print(\"입력한 숫자는 0입니다.\")"
   ]
  },
  {
   "cell_type": "code",
   "execution_count": 11,
   "id": "44616fbf-9c0b-4093-897c-c099e8c60ea8",
   "metadata": {},
   "outputs": [
    {
     "name": "stdout",
     "output_type": "stream",
     "text": [
      "[1, 2, 3, 4, 5, 6, 7, 8, 9]\n"
     ]
    }
   ],
   "source": [
    "print(list(range(1,10)))"
   ]
  },
  {
   "cell_type": "code",
   "execution_count": null,
   "id": "d4737672-e2a6-41d4-a8c3-9da6f64d2cfe",
   "metadata": {},
   "outputs": [],
   "source": []
  }
 ],
 "metadata": {
  "kernelspec": {
   "display_name": "Python 3 (ipykernel)",
   "language": "python",
   "name": "python3"
  },
  "language_info": {
   "codemirror_mode": {
    "name": "ipython",
    "version": 3
   },
   "file_extension": ".py",
   "mimetype": "text/x-python",
   "name": "python",
   "nbconvert_exporter": "python",
   "pygments_lexer": "ipython3",
   "version": "3.11.5"
  }
 },
 "nbformat": 4,
 "nbformat_minor": 5
}
