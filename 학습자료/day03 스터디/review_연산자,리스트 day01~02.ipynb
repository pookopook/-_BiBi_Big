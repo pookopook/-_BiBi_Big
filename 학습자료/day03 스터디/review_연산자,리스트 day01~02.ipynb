{
 "cells": [
  {
   "cell_type": "markdown",
   "metadata": {},
   "source": [
    "# 비비빅 학습동아리 3회차 _ 리뷰\n",
    " - 2024.4.24.(수) 18:30~20:00\n",
    " - 연산자\n",
    " - 리스트"
   ]
  },
  {
   "cell_type": "markdown",
   "metadata": {},
   "source": [
    "### 사칙연산 문제"
   ]
  },
  {
   "cell_type": "markdown",
   "metadata": {},
   "source": [
    "Q. 123에 456을 더하시오."
   ]
  },
  {
   "cell_type": "code",
   "execution_count": 1,
   "metadata": {},
   "outputs": [],
   "source": [
    "#풀이입력\n"
   ]
  },
  {
   "cell_type": "markdown",
   "metadata": {},
   "source": [
    "Q.  9876에서 4321을 빼고, 그 결과에 10을 곱하시오."
   ]
  },
  {
   "cell_type": "code",
   "execution_count": null,
   "metadata": {},
   "outputs": [],
   "source": [
    "#풀이입력\n"
   ]
  },
  {
   "cell_type": "markdown",
   "metadata": {},
   "source": [
    "Q. (1000 - 1) / (50 + 2)의 결과를 소수점 아래 두 자리까지 출력하시오."
   ]
  },
  {
   "cell_type": "code",
   "execution_count": null,
   "metadata": {},
   "outputs": [],
   "source": [
    "#풀이입력\n"
   ]
  },
  {
   "cell_type": "markdown",
   "metadata": {},
   "source": [
    "Q. 12345를 678로 나누고, 그 몫과 나머지를 출력하시오."
   ]
  },
  {
   "cell_type": "code",
   "execution_count": null,
   "metadata": {},
   "outputs": [],
   "source": [
    "#풀이입력\n"
   ]
  },
  {
   "cell_type": "markdown",
   "metadata": {},
   "source": [
    "### 리스트 문제"
   ]
  },
  {
   "cell_type": "markdown",
   "metadata": {},
   "source": [
    "Q. 주어진 리스트 fruits = [\"apple\", \"banana\"]에 \"cherry\"를 추가하시오."
   ]
  },
  {
   "cell_type": "code",
   "execution_count": null,
   "metadata": {},
   "outputs": [],
   "source": [
    "#풀이입력\n",
    "fruits = [\"apple\", \"banana\"]\n",
    "\n",
    "\n"
   ]
  },
  {
   "cell_type": "markdown",
   "metadata": {},
   "source": [
    "Q. 두 리스트 list1 = [1, 2, 3]와 list2 = [4, 5, 6]을 하나의 리스트로 병합하시오."
   ]
  },
  {
   "cell_type": "code",
   "execution_count": null,
   "metadata": {},
   "outputs": [],
   "source": [
    "#풀이입력\n",
    "list1 = [1, 2, 3]\n",
    "list2 = [4, 5, 6]\n",
    "\n",
    "\n"
   ]
  },
  {
   "cell_type": "markdown",
   "metadata": {},
   "source": [
    "Q. 리스트 numbers = [5, 10, 15, 20, 25]에서 값이 15인 요소를 삭제하시오."
   ]
  },
  {
   "cell_type": "code",
   "execution_count": null,
   "metadata": {},
   "outputs": [],
   "source": [
    "#풀이입력\n",
    "numbers = [5, 10, 15, 20, 25]\n"
   ]
  },
  {
   "cell_type": "markdown",
   "metadata": {},
   "source": [
    "Q. 리스트 colors = [\"red\", \"blue\", \"green\", \"yellow\", \"purple\"]에서 \"blue\"부터 \"yellow\"까지의 요소를 슬라이싱하여 새로운 리스트를 만드시오."
   ]
  },
  {
   "cell_type": "code",
   "execution_count": null,
   "metadata": {},
   "outputs": [],
   "source": [
    "#풀이입력\n",
    "colors = [\"red\", \"blue\", \"green\", \"yellow\", \"purple\"]\n",
    "\n"
   ]
  },
  {
   "cell_type": "markdown",
   "metadata": {},
   "source": [
    "Q. 리스트 scores = [88, 92, 79, 65, 76, 77, 83]를 오름차순으로 정렬하시오."
   ]
  },
  {
   "cell_type": "code",
   "execution_count": null,
   "metadata": {},
   "outputs": [],
   "source": [
    "#풀이입력\n",
    "scores = [88, 92, 79, 65, 76, 77, 83]\n",
    "\n"
   ]
  },
  {
   "cell_type": "markdown",
   "metadata": {},
   "source": [
    "#### 리스트 문제 정답"
   ]
  },
  {
   "cell_type": "code",
   "execution_count": null,
   "metadata": {},
   "outputs": [],
   "source": [
    "## 풀이입력\n",
    "# 문제 1 코드\n",
    "fruits = [\"apple\", \"banana\"]\n",
    "fruits.append(\"cherry\")\n",
    "print(fruits)\n",
    "\n",
    "# 문제 2 코드\n",
    "list1 = [1, 2, 3]\n",
    "list2 = [4, 5, 6]\n",
    "combined_list = list1 + list2\n",
    "print(combined_list)\n",
    "\n",
    "# 문제 3 코드\n",
    "numbers = [5, 10, 15, 20, 25]\n",
    "numbers.remove(15)\n",
    "print(numbers)\n",
    "\n",
    "# 문제 4 코드\n",
    "colors = [\"red\", \"blue\", \"green\", \"yellow\", \"purple\"]\n",
    "selected_colors = colors[1:4]\n",
    "print(selected_colors)\n",
    "\n",
    "# 문제 5 코드\n",
    "scores = [88, 92, 79, 65, 76, 77, 83]\n",
    "scores.sort()\n",
    "print(scores)\n"
   ]
  },
  {
   "cell_type": "markdown",
   "metadata": {},
   "source": [
    "### 문자열 문제"
   ]
  },
  {
   "cell_type": "markdown",
   "metadata": {
    "vscode": {
     "languageId": "plaintext"
    }
   },
   "source": [
    "Q. 주어진 문자열 \"안녕하세요\"를 거꾸로 출력하시오.\n",
    "hint) list_var[start:stop:step]"
   ]
  },
  {
   "cell_type": "code",
   "execution_count": null,
   "metadata": {},
   "outputs": [],
   "source": [
    "# 풀이입력\n",
    "string1 = \"안녕하세요\"\n"
   ]
  },
  {
   "cell_type": "markdown",
   "metadata": {},
   "source": [
    "Q. 문자열 \"바나나는 맛있어, 바나나는 좋아\"에서 '바'가 몇 번 나오는지 세시오."
   ]
  },
  {
   "cell_type": "code",
   "execution_count": null,
   "metadata": {},
   "outputs": [],
   "source": [
    "# 풀이입력\n",
    "string2 = \"바나나는 맛있어, 바나나는 좋아\"\n"
   ]
  },
  {
   "cell_type": "markdown",
   "metadata": {},
   "source": [
    "Q. 영문 문자열 \"Hello World\"에서\n",
    "1) 대문자는 소문자로, 소문자는 대문자로 변환하여 출력하시오.\n",
    "2) 모두 대문자로 출력하세요.\n",
    "3) 모두 소문자로 출력하세요.\n"
   ]
  },
  {
   "cell_type": "code",
   "execution_count": null,
   "metadata": {},
   "outputs": [],
   "source": [
    "# 풀이입력\n",
    "string3 = \"Hello World\"\n"
   ]
  },
  {
   "cell_type": "markdown",
   "metadata": {},
   "source": [
    "Q. 주어진 문자열 \"나는 출근이 좋아요.\"에서 \"출근\"를 \"퇴근\"으로 바꾼 결과를 출력하시오."
   ]
  },
  {
   "cell_type": "code",
   "execution_count": null,
   "metadata": {},
   "outputs": [],
   "source": [
    "# 풀이입력\n",
    "string4 = \"나는 출근이 좋아요.\"\n"
   ]
  },
  {
   "cell_type": "code",
   "execution_count": null,
   "metadata": {},
   "outputs": [],
   "source": [
    "# 답\n",
    "# 문제 1 해결\n",
    "string1 = \"안녕하세요\"\n",
    "reversed_string1 = string1[::-1]\n",
    "print(reversed_string1)\n",
    "\n",
    "# 문제 2 해결\n",
    "string2 = \"바나나는 맛있어, 바나나는 좋아\"\n",
    "count_ba = string2.count('바')\n",
    "print(count_ba)\n",
    "\n",
    "# 문제 3 해결\n",
    "string3 = \"Hello World\"\n",
    "swapped_string3 = string3.swapcase()\n",
    "upper_string3 = string3.upper()\n",
    "lower_string3 = string3.lower()\n",
    "print(swapped_string3)\n",
    "\n",
    "# 문제 4 해결\n",
    "string4 = \"나는 출근이 좋아요.\"\n",
    "replaced_string4 = string4.replace(\"출근\", \"퇴근\")\n",
    "print(replaced_string4)\n",
    "\n",
    "# 문제 5 해결\n",
    "string5 = \"서울 특별시 강남구\"\n",
    "title_string5 = string5.title()\n",
    "print(title_string5)"
   ]
  }
 ],
 "metadata": {
  "kernelspec": {
   "display_name": "base",
   "language": "python",
   "name": "python3"
  },
  "language_info": {
   "codemirror_mode": {
    "name": "ipython",
    "version": 3
   },
   "file_extension": ".py",
   "mimetype": "text/x-python",
   "name": "python",
   "nbconvert_exporter": "python",
   "pygments_lexer": "ipython3",
   "version": "3.11.5"
  }
 },
 "nbformat": 4,
 "nbformat_minor": 2
}
