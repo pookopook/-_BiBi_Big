{
 "cells": [
  {
   "cell_type": "markdown",
   "metadata": {},
   "source": [
    "# 비비빅 학습동아리 11회차_스터디\n",
    " - 2024.9.24.(수) 18:10~20:30\n",
    " - 국감대비 엑셀 to 파이썬"
   ]
  },
  {
   "cell_type": "code",
   "execution_count": 394,
   "metadata": {},
   "outputs": [],
   "source": [
    "import pandas as pd\n",
    "import numpy as np\n",
    "from datetime import datetime, timedelta, date"
   ]
  },
  {
   "cell_type": "markdown",
   "metadata": {},
   "source": [
    "- 엑셀파일을 먼저 열어서 살펴봅니다.\n",
    "    - 총 4개 시트, 데이터 갯수 등등.\n",
    "    - 만약에 이 데이터들이 100만개가 넘는다면?;;;; vlookup 할수있을까?\n",
    "    - 단순 pivot이 아닌, 중복제거, 데이터 집계 등 작업이 필요한 경우? 어떻게 할건가?"
   ]
  },
  {
   "cell_type": "code",
   "execution_count": 395,
   "metadata": {},
   "outputs": [],
   "source": [
    "# 엑셀 연계를 위해서는 openpyxl 라이브러리가 필요함\n",
    "# 아나콘다 설치 시 함께 깔림\n",
    "#!pip install openpyxl "
   ]
  },
  {
   "cell_type": "code",
   "execution_count": 396,
   "metadata": {},
   "outputs": [],
   "source": [
    "# 엑셀 파일 열기 (리소스 할당)\n",
    "path = './data/sample_data.xlsx'\n",
    "xls = pd.ExcelFile(path)\n",
    "\n",
    "# 파일 닫기 (리소스 할당 해제)\n",
    "# xls_file.close()"
   ]
  },
  {
   "cell_type": "code",
   "execution_count": 397,
   "metadata": {},
   "outputs": [
    {
     "data": {
      "text/plain": [
       "['People', 'Hospitals', 'Diseases', 'Visits']"
      ]
     },
     "execution_count": 397,
     "metadata": {},
     "output_type": "execute_result"
    }
   ],
   "source": [
    "# sheet_names를 통해 시트명을 불러올 수 있음\n",
    "sheets = xls.sheet_names\n",
    "sheets  # 시트 리스트로 저장"
   ]
  },
  {
   "cell_type": "code",
   "execution_count": null,
   "metadata": {},
   "outputs": [],
   "source": [
    "# parse를 통해 df로 불러올 수 있음\n",
    "# 기본형 - 시트명을 지정\n",
    "df = xls.parse('People')\n",
    "df.head(5)\n",
    "# 시트 리스트에서 불러오기\n",
    "# df = xls.parse(sheets[1])"
   ]
  },
  {
   "cell_type": "code",
   "execution_count": 399,
   "metadata": {},
   "outputs": [],
   "source": [
    "xls.close()"
   ]
  },
  {
   "cell_type": "code",
   "execution_count": 400,
   "metadata": {},
   "outputs": [
    {
     "data": {
      "text/plain": [
       "<pandas.io.excel._base.ExcelFile at 0x176df4adf40>"
      ]
     },
     "execution_count": 400,
     "metadata": {},
     "output_type": "execute_result"
    }
   ],
   "source": [
    "xls"
   ]
  },
  {
   "cell_type": "code",
   "execution_count": 401,
   "metadata": {},
   "outputs": [
    {
     "data": {
      "text/plain": [
       "['People', 'Hospitals', 'Diseases', 'Visits']"
      ]
     },
     "execution_count": 401,
     "metadata": {},
     "output_type": "execute_result"
    }
   ],
   "source": [
    "# 엑셀 파일 열기 (리소스 할당)\n",
    "path = './data/sample_data_hard.xlsx'\n",
    "xls = pd.ExcelFile(path)\n",
    "\n",
    "sheets = xls.sheet_names\n",
    "sheets  # 총 4개의 시트가 있음을 확인  ['People', 'Hospitals', 'Diseases', 'Visits']"
   ]
  },
  {
   "cell_type": "code",
   "execution_count": null,
   "metadata": {},
   "outputs": [],
   "source": [
    "# csv처럼 저장되지 않은 엑셀 데이터 불러오기\n",
    "df = xls.parse('People')\n",
    "# 엑셀에 제목이 들어있는 등 데이터의 문제가 많음\n",
    "df.head(5)"
   ]
  },
  {
   "cell_type": "code",
   "execution_count": null,
   "metadata": {},
   "outputs": [],
   "source": [
    "#skiprows 사용. 맨 위 k개 행을 제외\n",
    "df1 = xls.parse('People', skiprows=2)\n",
    "df1"
   ]
  },
  {
   "cell_type": "code",
   "execution_count": null,
   "metadata": {},
   "outputs": [],
   "source": [
    "#usecols 사용하여, 제목셀을 무시\n",
    "df2 = xls.parse(sheets[1], skiprows=3, usecols='A:J')\n",
    "df2"
   ]
  },
  {
   "cell_type": "code",
   "execution_count": null,
   "metadata": {},
   "outputs": [],
   "source": [
    "# 상병코드 불러오기\n",
    "# 더 복잡한 형태\n",
    "df3 = xls.parse(sheets[2], skiprows=5)\n",
    "df3\n",
    "# 연번은 index로 처리\n",
    "# Unnamed: 3\tUnnamed: 4\tUnnamed: 5\tUnnamed: 6 불러오지 않기\n",
    "# 하단 오류 데이터는 제거"
   ]
  },
  {
   "cell_type": "code",
   "execution_count": null,
   "metadata": {},
   "outputs": [],
   "source": [
    "#최초 nan 값 찾기\n",
    "df3.연번.isna().idxmax()  ## 30\n"
   ]
  },
  {
   "cell_type": "code",
   "execution_count": null,
   "metadata": {},
   "outputs": [],
   "source": [
    "# index_col, usecols, skipfooter 사용  ## 43-29 = 13\n",
    "df3 = xls.parse(sheets[2], \n",
    "                skiprows=5, \n",
    "                #index_col='연번', \n",
    "                index_col=[0],\n",
    "                usecols='B,C',   # usecols='A,C' , 'A:D', 'A, C:D, G', 'A,B,C'\n",
    "                skipfooter=14)\n",
    "df3\n"
   ]
  },
  {
   "cell_type": "code",
   "execution_count": null,
   "metadata": {},
   "outputs": [],
   "source": [
    "# 진료내역은\n",
    "# skiprows 사용\n",
    "df4 = xls.parse(sheets[3], skiprows=2)\n",
    "df4\n"
   ]
  },
  {
   "cell_type": "markdown",
   "metadata": {},
   "source": [
    "# CASE study"
   ]
  },
  {
   "cell_type": "markdown",
   "metadata": {},
   "source": [
    "## 1. vlookup\n",
    "진료내역에 수진자 이름, 생년월일, 성별, 주소를 붙여보자"
   ]
  },
  {
   "cell_type": "code",
   "execution_count": 409,
   "metadata": {},
   "outputs": [
    {
     "name": "stdout",
     "output_type": "stream",
     "text": [
      "<class 'pandas.core.frame.DataFrame'>\n",
      "RangeIndex: 0 entries\n",
      "Empty DataFrame\n"
     ]
    }
   ],
   "source": [
    "# 빈 데이터프레임\n",
    "df_exm = pd.DataFrame()\n",
    "df_exm.info()"
   ]
  },
  {
   "cell_type": "code",
   "execution_count": null,
   "metadata": {},
   "outputs": [],
   "source": [
    "# df4.merge(df1)\n",
    "# 주민번호가 같기 때문에 자동으로 붙는다.\n",
    "# 명시적으로 붙여주는 방법 (이걸 추천)\n",
    "df_exm = df4.merge(df1, how='left', left_on='주민번호', right_on='주민번호')\n",
    "df_exm"
   ]
  },
  {
   "cell_type": "code",
   "execution_count": null,
   "metadata": {},
   "outputs": [],
   "source": [
    "df_exm = df_exm.merge(df2, how='left', left_on='요양기관기호', right_on = '요양기관기호'  )\n",
    "df_exm\n",
    "# 중복실행 문제를 방지하려면, suffix 옵션을 사용한다.\n",
    "# 오늘 다루지는 않겠음 -> gpt문의하면 잘 알려줘요\n",
    "# 이런 에러가 생긴 경우, df_exm을 처음부터 재구축해주자. df_exm = pd.DataFrame()"
   ]
  },
  {
   "cell_type": "code",
   "execution_count": null,
   "metadata": {},
   "outputs": [],
   "source": [
    "# df3에서 병명코드를 index로 부여했으므로, right_on = '병명코드' 대신 right_index = True 옵션을 사용함.\n",
    "df_exm = df_exm.merge(df3, how='left', left_on='병명코드', right_index = True  )\n",
    "df_exm\n",
    "# 중복실행 문제를 방지하려면, suffix 옵션을 사용한다.\n",
    "# 오늘 다루지는 않겠음 -> gpt문의하면 잘 알려줘요\n",
    "# 이런 에러가 생긴 경우, df_exm을 처음부터 재구축해주자. df_exm = pd.DataFrame()"
   ]
  },
  {
   "cell_type": "markdown",
   "metadata": {},
   "source": [
    "## 1-1. 지역구분 컬럼을 하나 만들어줍시다."
   ]
  },
  {
   "cell_type": "code",
   "execution_count": null,
   "metadata": {},
   "outputs": [],
   "source": [
    "# 시도/군구 를 한꺼번에 뽑으려면?\n",
    "#df_exm[['수진자_시도','수진자_구']] = df_exm.주소_x.str.split(' ', n=2, expand=True)[0,1]\n",
    "df_exm[['수진자_시도','수진자_구']] = df_exm.주소_x.str.split(' ', n=2, expand=True)[[0, 1]]\n",
    "df_exm[['병원_시도','병원_구']] = df_exm.주소_y.str.split(' ', n=2, expand=True)[[0, 1]]\n",
    "df_exm"
   ]
  },
  {
   "cell_type": "markdown",
   "metadata": {},
   "source": [
    "## 2. 데이터에 중복이 있는 지 확인하는 방법  \n",
    "중복이 있는 지 확인하는것은 매우 중요함 (데이터 검증 영역)"
   ]
  },
  {
   "cell_type": "code",
   "execution_count": null,
   "metadata": {},
   "outputs": [],
   "source": [
    "df1[df1.duplicated()]\n",
    "# 중복이 없습니다."
   ]
  },
  {
   "cell_type": "code",
   "execution_count": 415,
   "metadata": {},
   "outputs": [],
   "source": [
    "# 여러번 쓴다면 함수로 만들어보자\n",
    "def check_dup(df):\n",
    "    return df[df.duplicated()]\n"
   ]
  },
  {
   "cell_type": "code",
   "execution_count": null,
   "metadata": {},
   "outputs": [],
   "source": [
    "check_dup(df4)"
   ]
  },
  {
   "cell_type": "code",
   "execution_count": null,
   "metadata": {},
   "outputs": [],
   "source": [
    "# 특정 컬럼을 기준으로 체크하는 함수\n",
    "# keep옵션은 False로 해야, 전체 중복된 내용을 체크할 수 있음\n",
    "# 중복은 2개 행 중복, keep=False가 없는 경우, 둘 중 하나만 반환함.\n",
    "dup = df1[df1.duplicated(subset=['이름'], keep=False)]\n",
    "dup"
   ]
  },
  {
   "cell_type": "code",
   "execution_count": null,
   "metadata": {},
   "outputs": [],
   "source": [
    "dup.이름.nunique(), dup.이름.unique(), dup.이름.value_counts()"
   ]
  },
  {
   "cell_type": "code",
   "execution_count": null,
   "metadata": {},
   "outputs": [],
   "source": [
    "df1[df1.이름 == '김지원']"
   ]
  },
  {
   "cell_type": "code",
   "execution_count": 420,
   "metadata": {},
   "outputs": [],
   "source": [
    "#함수로 만들어볼까요\n",
    "def check_dup_bycol(df, list):\n",
    "\n",
    "    print(f'중복검사결과입니다.')\n",
    "\n",
    "    return df[df.duplicated(subset=list, keep=False)].sort_values(by=list)"
   ]
  },
  {
   "cell_type": "code",
   "execution_count": null,
   "metadata": {},
   "outputs": [],
   "source": [
    "check_dup_bycol(df2,['요양기관기호'])"
   ]
  },
  {
   "cell_type": "markdown",
   "metadata": {},
   "source": [
    "## 3. groupby를 통한 데이터 집계"
   ]
  },
  {
   "cell_type": "code",
   "execution_count": null,
   "metadata": {},
   "outputs": [],
   "source": [
    "# 수진자 당 진료횟수, 금액, 평균진료금액, 기간은 2021년만\n",
    "# groupby('컬럼명').agg(딕셔너리...{'컬럼명':'집계값','컬럼명':'집계값'})\n",
    "df_exm.columns\n",
    "df = df_exm[['주민번호', '이름','진료일자', '진료비']]\n",
    "df.groupby('주민번호').agg({\n",
    "    '이름':'first',\n",
    "    '진료일자':['count','nunique'],\n",
    "    '진료비':['sum','max','mean']\n",
    "})\n",
    "# groupby를 통해 반환된 결과는 또 다른 df이므로, 이를 이용하여 조건에 따른 필터링  가능함."
   ]
  },
  {
   "cell_type": "markdown",
   "metadata": {},
   "source": [
    "### pandas의 group by\n",
    "| 기능            | 함수명     |      | 기능            | 함수명     |\n",
    "|-----------------|------------|------|-----------------|------------|\n",
    "| 평균            | `mean`     |      | 표준편차        | `std`      |\n",
    "| 합계            | `sum`      |      | 분산            | `var`      |\n",
    "| 최소값          | `min`      |      | 중앙값          | `median`   |\n",
    "| 최대값          | `max`      |      | 첫 번째 값      | `first`    |\n",
    "| 갯수            | `count`    |      | 마지막 값       | `last`     |\n",
    "| 고유한 값의 수  | `nunique`  |      | 최빈값          | `mode`     |\n",
    "| 곱              | `prod`     |      | 평균 절대 편차  | `mad`      |\n",
    "| 표준 오차      | `sem`      |      |         |        |\n",
    " "
   ]
  },
  {
   "cell_type": "code",
   "execution_count": null,
   "metadata": {},
   "outputs": [],
   "source": [
    "# 수진자 당 진료횟수, 금액, 평균진료금액, 기간은 2021년만\n",
    "# groupby('컬럼명').agg(딕셔너리...{'컬럼명':'집계값','컬럼명':'집계값'})\n",
    "df_exm.columns\n",
    "df = df_exm[['주민번호', '이름','진료일자', '진료비', '수진자_시도']]\n",
    "df_group = df.groupby(['주민번호','이름', '수진자_시도']).agg({\n",
    "    # '이름':'first',\n",
    "    # '병원이름':'first',\n",
    "    '진료일자':['count','nunique'],\n",
    "    '진료비':['sum','max','mean']\n",
    "    \n",
    "})\n",
    "df_group\n",
    "# groupby를 통해 반환된 결과는 또 다른 df이므로, 이를 이용하여 조건에 따른 필터링  가능함."
   ]
  },
  {
   "cell_type": "markdown",
   "metadata": {},
   "source": [
    "## 4. 수진자 지역별, 월별 진료비 현황\n",
    "# 날짜기준 21.1분기~22.1분기\n",
    "| 지역명   | 2021/Q1     |              | 2021/Q2     |              | 2021/Q3     |              |\n",
    "|----------|-------------|--------------|-------------|--------------|-------------|--------------|\n",
    "|          | 진료비      | 인원         | 진료비      | 인원         | 진료비      | 인원         |\n",
    "|----------|-------------|--------------|-------------|--------------|-------------|--------------|\n",
    "| 서울특별시 |             |              |             |              |             |              |\n",
    "| 부산광역시 |             |              |             |              |             |              |\n",
    "| 대구광역시 |             |              |             |              |             |              |\n",
    "| 인천광역시 |             |              |             |              |             |              |\n",
    "| 광주광역시 |             |              |             |              |             |              |\n"
   ]
  },
  {
   "cell_type": "code",
   "execution_count": null,
   "metadata": {},
   "outputs": [],
   "source": [
    "# 월별 구분을 위해 진료일자를 날짜 데이터 형식으로 변환\n",
    "df_exm['진료일자'] = pd.to_datetime(df_exm['진료일자'])\n",
    "df_exm.info()  # 0   진료일자     3000 non-null   datetime64[ns]    object에서 datetime으로 변환 확인\n"
   ]
  },
  {
   "cell_type": "markdown",
   "metadata": {},
   "source": [
    "| 기능          | 메서드/속성                           | 설명                                |\n",
    "|---------------|---------------------------------------|-------------------------------------|\n",
    "| 연도 추출     | `df['날짜'].dt.year`                  | 날짜에서 연도만 추출                |\n",
    "| 월 추출       | `df['날짜'].dt.month`                 | 날짜에서 월만 추출                  |\n",
    "| 일 추출       | `df['날짜'].dt.day`                   | 날짜에서 일만 추출                  |\n",
    "| 요일 추출     | `df['날짜'].dt.dayofweek`             | 날짜에서 요일 추출 (0: 월요일)      |\n",
    "| 요일 이름 추출| `df['날짜'].dt.day_name()`            | 요일의 이름 (예: 'Monday')          |\n",
    "| 연도-월 추출  | `df['날짜'].dt.to_period('M')`        | 연도-월 추출 (YYYY-MM 형식)         |\n",
    "| 연도-주 추출  | `df['날짜'].dt.to_period('W')`        | 연도-주 추출                        |\n",
    "| 연도-분기 추출  | `df['날짜'].dt.to_period('Q')`        | 연도-분기 추출                        |\n",
    "| 분기 추출     | `df['날짜'].dt.quarter`               | 날짜에서 분기 추출                  |\n",
    "| 시간 추출     | `df['날짜'].dt.hour`                  | 날짜에서 시간 추출                  |\n",
    "| 분 추출       | `df['날짜'].dt.minute`                | 날짜에서 분 추출                    |\n",
    "| 날짜 차이 계산| `df['날짜'] - pd.to_datetime(기준일)` | 날짜 간의 차이 계산                 |\n",
    "| 원하는 형식 변환 | `df['날짜'].dt.strftime('%Y/%m/%d')` | 날짜를 특정 형식으로 변환            |\n",
    "| 월의 첫날     | `df['날짜'].dt.to_period('M').start_time` | 해당 월의 첫날 추출             |\n",
    "| 월의 마지막날 | `df['날짜'].dt.to_period('M').end_time`   | 해당 월의 마지막날 추출          |\n"
   ]
  },
  {
   "cell_type": "code",
   "execution_count": 425,
   "metadata": {},
   "outputs": [],
   "source": [
    "# 연도/분기 구분 컬럼을 넣어줍니다. \n",
    "df_exm['연도분기'] = df_exm['진료일자'].dt.to_period('Q')"
   ]
  },
  {
   "cell_type": "code",
   "execution_count": 426,
   "metadata": {},
   "outputs": [
    {
     "data": {
      "text/plain": [
       "Index(['진료일자', '주민번호', '요양기관기호', '병명코드', '진료비', '이름', '생년월일', '성별', '주소_x',\n",
       "       '병원이름', '의사', '면허번호', '주소_y', '의사 수', '간호사 수', '행정 직원 수', '물리치료사 수',\n",
       "       '방사선사 수', '병명', '수진자_시도', '수진자_구', '병원_시도', '병원_구', '연도분기'],\n",
       "      dtype='object')"
      ]
     },
     "execution_count": 426,
     "metadata": {},
     "output_type": "execute_result"
    }
   ],
   "source": [
    "df_exm.columns"
   ]
  },
  {
   "cell_type": "code",
   "execution_count": null,
   "metadata": {},
   "outputs": [],
   "source": [
    "df_group = df_exm[['연도분기','주민번호','진료비','수진자_시도', '진료일자']]\n",
    "\n",
    "# 필터링\n",
    "# 날짜\n",
    "con1 = '2021-01-01'\n",
    "con2 = '2022-03-31'\n",
    "#((df_group['진료일자'] >= con1) & (df_group['진료일자'] <= con2)).sum() # 1345행\n",
    "df_group = df_group[(df_group['진료일자'] >= con1) & (df_group['진료일자'] <= con2)]\n",
    "df_group = df_group.groupby(['연도분기','수진자_시도']).agg({\n",
    "    '주민번호':'count',\n",
    "    '진료비':'sum'\n",
    "})\n",
    "\n",
    "df_group = df_group.reset_index()\n",
    "df_group = df_group.pivot_table(columns='연도분기', index='수진자_시도',values=['주민번호','진료비'])\n",
    "\n",
    "# MultiIndex 레벨 교환 (레벨 0과 레벨 1을 교환)\n",
    "df_group.columns = df_group.columns.swaplevel(0, 1)\n",
    "\n",
    "# 첫 번째 레벨(연도/분기)을 기준으로 컬럼 정렬\n",
    "df_group = df_group.sort_index(axis=1, level=0)\n",
    "# 두 번째 레벨(진료비, 주민번호)의 순서 조정 (진료비가 먼저 오도록)\n",
    "df_group = df_group.reindex(columns=['진료비', '주민번호'], level=1)\n",
    "# 컬럼명 변경\n",
    "df_group.rename(columns={'주민번호': '진료인원'}, inplace=True)\n",
    "df_group"
   ]
  },
  {
   "cell_type": "markdown",
   "metadata": {},
   "source": [
    "## 4. 상위 k, 상위 k% 추출"
   ]
  },
  {
   "cell_type": "markdown",
   "metadata": {},
   "source": [
    "2023년간 직원 수 상위 병원 k개, 수입 상위 k% 병원 추출"
   ]
  },
  {
   "cell_type": "code",
   "execution_count": null,
   "metadata": {},
   "outputs": [],
   "source": [
    "#  날짜 데이터로 변경\n",
    "df_exm['진료일자'] = pd.to_datetime(df_exm['진료일자'])\n",
    "df_exm.info()"
   ]
  },
  {
   "cell_type": "code",
   "execution_count": null,
   "metadata": {},
   "outputs": [],
   "source": [
    "df_exm['직원수'] = df_exm[['의사 수', '간호사 수', '행정 직원 수', '물리치료사 수','방사선사 수']].sum(axis=1)\n",
    "df_exm.info()"
   ]
  },
  {
   "cell_type": "code",
   "execution_count": null,
   "metadata": {},
   "outputs": [],
   "source": [
    "## 자료발췌\n",
    "#기간\n",
    "y = 2023\n",
    "df_exm[df_exm['진료일자'].dt.year == y]  # 591행\n",
    "\n",
    "# 병원기준\n",
    "df_group = df_exm[['연도분기', '요양기관기호','병원이름','주민번호','병명코드','병원_시도','진료비','직원수']]\n",
    "df_group = df_group.groupby(['요양기관기호','병원이름']).agg({\n",
    "    '직원수':'sum',\n",
    "    '진료비':'sum',\n",
    "    '병원_시도':'first'    \n",
    "})\n",
    "df_group"
   ]
  },
  {
   "cell_type": "code",
   "execution_count": null,
   "metadata": {},
   "outputs": [],
   "source": [
    "df_group.sort_values(by='직원수', ascending=False)\n",
    "df_group.head(10)"
   ]
  },
  {
   "cell_type": "code",
   "execution_count": 432,
   "metadata": {},
   "outputs": [],
   "source": [
    "# 상위 5% 병원 수 계산\n",
    "k = int(len(df) * 0.05)\n",
    "#이하 동일"
   ]
  },
  {
   "cell_type": "markdown",
   "metadata": {},
   "source": []
  }
 ],
 "metadata": {
  "kernelspec": {
   "display_name": "Python 3",
   "language": "python",
   "name": "python3"
  },
  "language_info": {
   "codemirror_mode": {
    "name": "ipython",
    "version": 3
   },
   "file_extension": ".py",
   "mimetype": "text/x-python",
   "name": "python",
   "nbconvert_exporter": "python",
   "pygments_lexer": "ipython3",
   "version": "3.12.1"
  }
 },
 "nbformat": 4,
 "nbformat_minor": 2
}
