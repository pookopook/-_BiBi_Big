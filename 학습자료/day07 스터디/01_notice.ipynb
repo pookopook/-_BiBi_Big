{
 "cells": [
  {
   "cell_type": "markdown",
   "metadata": {},
   "source": [
    "# 비비빅 학습동아리 6회차_스터디\n",
    " - 2024.7.14.(수) 18:30~20:30\n",
    " - 환경설정\n",
    " - Jupyter-lab\n",
    " - (캐글) 타이타닉 데이터"
   ]
  },
  {
   "cell_type": "markdown",
   "metadata": {},
   "source": [
    "# 공지\n",
    " - 학습동아리 깃허브 (가입 후 즐겨찾기!)\n",
    "   - https://github.com/pookopook/bibi-big"
   ]
  },
  {
   "cell_type": "markdown",
   "metadata": {},
   "source": [
    "# 개발환경 설정\n",
    "  - 파이썬을 업데이트 방법 및 필수 라이브러리 설치\n",
    "  - https://bit.ly/45g6Wzm\n",
    "  - 에러가 나면 GPT에게 질문해보자."
   ]
  },
  {
   "cell_type": "markdown",
   "metadata": {},
   "source": [
    "# 캐글\n",
    "캐글은 세계 최고의 데이터 분석 경진대회를 위한 사이트입니다.\n",
    "\n",
    "www.kaggle.com"
   ]
  },
  {
   "cell_type": "markdown",
   "metadata": {},
   "source": [
    "## 회원가입, 명령어 사용을 위한 API 토큰 발급\n",
    "setting -> account -> api"
   ]
  },
  {
   "cell_type": "markdown",
   "metadata": {},
   "source": []
  }
 ],
 "metadata": {
  "kernelspec": {
   "display_name": "Python 3 (ipykernel)",
   "language": "python",
   "name": "python3"
  },
  "language_info": {
   "codemirror_mode": {
    "name": "ipython",
    "version": 3
   },
   "file_extension": ".py",
   "mimetype": "text/x-python",
   "name": "python",
   "nbconvert_exporter": "python",
   "pygments_lexer": "ipython3",
   "version": "3.12.4"
  }
 },
 "nbformat": 4,
 "nbformat_minor": 4
}
